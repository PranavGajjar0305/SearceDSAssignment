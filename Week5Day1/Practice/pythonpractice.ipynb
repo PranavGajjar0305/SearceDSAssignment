{
 "cells": [
  {
   "cell_type": "code",
   "execution_count": 1,
   "id": "90507846",
   "metadata": {},
   "outputs": [
    {
     "name": "stdout",
     "output_type": "stream",
     "text": [
      "Less then 10\n"
     ]
    }
   ],
   "source": [
    "a=5\n",
    "if a<10:\n",
    "    print(\"Less then 10\")\n",
    "elif a>10:\n",
    "    print(\"Greater then 10\")\n",
    "else:\n",
    "    print(\"Equal to 10\")"
   ]
  },
  {
   "cell_type": "code",
   "execution_count": 4,
   "id": "dd0faaf6",
   "metadata": {},
   "outputs": [
    {
     "name": "stdout",
     "output_type": "stream",
     "text": [
      "Enter your number: 54\n",
      "Greater then 10\n"
     ]
    }
   ],
   "source": [
    "n=int(input(\"Enter your number: \"))\n",
    "if n<10:\n",
    "    print(\"Less then 10\")\n",
    "elif n>10:\n",
    "    print(\"Greater then 10\")\n",
    "else:\n",
    "    print(\"Equal to 10\")"
   ]
  },
  {
   "cell_type": "code",
   "execution_count": 13,
   "id": "5aa30e93",
   "metadata": {},
   "outputs": [
    {
     "name": "stdout",
     "output_type": "stream",
     "text": [
      "H\n",
      "!\n",
      "29\n",
      "!!!!!!vanarP si eman yM olleH\n",
      "Pranav\n",
      "HloM aei rnv!!!\n"
     ]
    }
   ],
   "source": [
    "tempstr=\"Hello My name is Pranav!!!!!!\"\n",
    "print(tempstr[0])\n",
    "print(tempstr[-1])\n",
    "print(len(tempstr))\n",
    "print(tempstr[::-1])\n",
    "print(tempstr[17:23])\n",
    "print(tempstr[::2])"
   ]
  },
  {
   "cell_type": "code",
   "execution_count": 14,
   "id": "ce817ec1",
   "metadata": {},
   "outputs": [
    {
     "name": "stdout",
     "output_type": "stream",
     "text": [
      "7382\n"
     ]
    }
   ],
   "source": [
    "n=\"7382\"\n",
    "try:\n",
    "    intn=int(n)\n",
    "    print(intn)\n",
    "except:\n",
    "    print(\"It is not a valid Number\")"
   ]
  },
  {
   "cell_type": "code",
   "execution_count": 15,
   "id": "af57617b",
   "metadata": {},
   "outputs": [
    {
     "name": "stdout",
     "output_type": "stream",
     "text": [
      "It is not a valid Number\n"
     ]
    }
   ],
   "source": [
    "n=\"7382ad\"\n",
    "try:\n",
    "    intn=int(n)\n",
    "    print(intn)\n",
    "except:\n",
    "    print(\"It is not a valid Number\")"
   ]
  },
  {
   "cell_type": "code",
   "execution_count": 19,
   "id": "26c779e8",
   "metadata": {},
   "outputs": [
    {
     "name": "stdout",
     "output_type": "stream",
     "text": [
      "hello my name is pranav!!!!!!\n",
      "HELLO MY NAME IS PRANAV!!!!!!\n"
     ]
    }
   ],
   "source": [
    "print(tempstr.lower())\n",
    "print(tempstr.upper())"
   ]
  },
  {
   "cell_type": "code",
   "execution_count": 20,
   "id": "9ef3dbf1",
   "metadata": {},
   "outputs": [
    {
     "data": {
      "text/plain": [
       "3.6666666666666665"
      ]
     },
     "execution_count": 20,
     "metadata": {},
     "output_type": "execute_result"
    }
   ],
   "source": [
    "11/3"
   ]
  },
  {
   "cell_type": "code",
   "execution_count": 22,
   "id": "1265232d",
   "metadata": {},
   "outputs": [
    {
     "data": {
      "text/plain": [
       "3"
      ]
     },
     "execution_count": 22,
     "metadata": {},
     "output_type": "execute_result"
    }
   ],
   "source": [
    "int(11.2/3)"
   ]
  },
  {
   "cell_type": "code",
   "execution_count": 25,
   "id": "ea0d9484",
   "metadata": {},
   "outputs": [
    {
     "name": "stdout",
     "output_type": "stream",
     "text": [
      "49\n"
     ]
    }
   ],
   "source": [
    "def tempfunc(val):\n",
    "    return val*val\n",
    "print(tempfunc(7))"
   ]
  },
  {
   "cell_type": "code",
   "execution_count": 27,
   "id": "357e4ef6",
   "metadata": {},
   "outputs": [
    {
     "name": "stdout",
     "output_type": "stream",
     "text": [
      "brown\n"
     ]
    }
   ],
   "source": [
    "class Dog:\n",
    "    animal='dog'\n",
    "    def __init__(self, breed):\n",
    "        self.breed=breed\n",
    "    def setColor(self, color):\n",
    "        self.color=color\n",
    "    def getColor(self):\n",
    "        return self.color\n",
    "\n",
    "Rodger=Dog(\"pug\")\n",
    "Rodger.setColor(\"brown\")\n",
    "print(Rodger.getColor())"
   ]
  },
  {
   "cell_type": "code",
   "execution_count": null,
   "id": "06d21b82",
   "metadata": {},
   "outputs": [],
   "source": []
  }
 ],
 "metadata": {
  "kernelspec": {
   "display_name": "Python 3",
   "language": "python",
   "name": "python3"
  },
  "language_info": {
   "codemirror_mode": {
    "name": "ipython",
    "version": 3
   },
   "file_extension": ".py",
   "mimetype": "text/x-python",
   "name": "python",
   "nbconvert_exporter": "python",
   "pygments_lexer": "ipython3",
   "version": "3.8.8"
  }
 },
 "nbformat": 4,
 "nbformat_minor": 5
}
